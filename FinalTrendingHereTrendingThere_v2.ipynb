{
 "cells": [
  {
   "cell_type": "markdown",
   "metadata": {},
   "source": [
    "Aravind Patnam\n",
    "Jeremy Tan\n",
    "Timothy Le\n",
    "\n",
    "CSE-184 Final Project - Trending Here Trending There \n",
    "An analysis on trending and nontrending Youtube videos. "
   ]
  },
  {
   "cell_type": "code",
   "execution_count": null,
   "metadata": {},
   "outputs": [],
   "source": [
    "import scripts.scripts as script\n",
    "%run \"scripts/imports.py\"\n",
    "import plotly.io as pio\n",
    "pio.renderers.default = 'iframe'"
   ]
  },
  {
   "cell_type": "code",
   "execution_count": null,
   "metadata": {},
   "outputs": [],
   "source": [
    "## written by Aravind Patnam and Jeremy Tan\n",
    "#### get all csv dataframes for trending. These files should be in the same directory. \n",
    "US_trending_df = pd.read_csv('data/USvideos.csv') #USA\n",
    "CA_trending_df = pd.read_csv('data/CAvideos.csv') #CANADA\n",
    "DE_trending_df = pd.read_csv('data/DEvideos.csv') #GERMANY\n",
    "FR_trending_df = pd.read_csv('data/FRvideos.csv') #FRANCE\n",
    "GB_trending_df = pd.read_csv('data/GBvideos.csv') #GREAT BRITAIN\n",
    "IN_trending_df = pd.read_csv('data/INvideos.csv') #INDIA\n",
    "JP_trending_df = pd.read_csv('data/JPvideos.csv', encoding='ISO-8859-1') #JAPAN\n",
    "KR_trending_df = pd.read_csv('data/KRvideos.csv' , encoding='ISO-8859-1') #SOUTH KOREA\n",
    "MX_trending_df = pd.read_csv('data/MXvideos.csv', encoding='ISO-8859-1') #MEXICO\n",
    "RU_trending_df = pd.read_csv('data/RUvideos.csv', encoding='ISO-8859-1') #RUSSIA\n",
    "\n",
    "list_of_all_trending_dfs = [US_trending_df, CA_trending_df, DE_trending_df, FR_trending_df, GB_trending_df, IN_trending_df,\n",
    "                           JP_trending_df, KR_trending_df, MX_trending_df, RU_trending_df]\n",
    "list_of_csvs = ['data/USvideos.csv','data/CAvideos.csv', 'data/DEvideos.csv', 'data/FRvideos.csv', 'data/GBvideos.csv', 'data/INvideos.csv', 'data/JPvideos.csv','data/KRvideos.csv', 'data/MXvideos.csv', 'data/RUvideos.csv' ]\n",
    "\n",
    "big_df = list()\n",
    "for csv in list_of_csvs:\n",
    "    # use encoding to bypass utf error\n",
    "    df = pd.read_csv(csv, index_col='video_id', encoding='ISO-8859-1')\n",
    "    # add new column called \"country\" to indentify which videos the csv are coming from\n",
    "    # depending on your path name, this will break as it looks at the path name \n",
    "    df['country'] = csv[5:7]\n",
    "    big_df.append(df)\n",
    "    \n",
    "full_trending_df = pd.concat(big_df)\n",
    "full_trending_df.tail()"
   ]
  },
  {
   "cell_type": "code",
   "execution_count": null,
   "metadata": {},
   "outputs": [],
   "source": [
    "#### reformatting and detecting nans\n",
    "\n",
    "# reformat trending_date\n",
    "full_trending_df['trending_date'] = pd.to_datetime(full_trending_df['trending_date'],errors='coerce', format='%y.%d.%m')\n",
    "full_trending_df['publish_time'] = pd.to_datetime(full_trending_df['publish_time'], errors='coerce', format='%Y-%m-%dT%H:%M:%S.%fZ')\n",
    "\n",
    "# detects any nans \n",
    "full_trending_df = full_trending_df[full_trending_df['trending_date'].notnull()]\n",
    "full_trending_df = full_trending_df[full_trending_df['publish_time'].notnull()]\n",
    "\n",
    "# drop all nans by trmeoving them \n",
    "full_trending_df = full_trending_df.dropna(how='any',inplace=False, axis = 0)\n",
    "\n",
    "# this is done already so don't run it twice\n",
    "full_trending_df.insert(4, 'publish_date', full_trending_df['publish_time'].dt.date)\n",
    "full_trending_df['publish_time'] = full_trending_df['publish_time'].dt.time\n",
    "\n",
    "# set index by video id and sort by trending dates \n",
    "full_trending_df_fill = full_trending_df.reset_index().sort_values('trending_date').set_index('video_id')\n",
    "# set index by vide id and sort by trending dates, but make sure to drop duplicates\n",
    "full_trending_df = full_trending_df.reset_index().sort_values('trending_date').drop_duplicates('video_id',keep='last').set_index('video_id')\n",
    "# prep data to by adding like rate and spliitng publish time into a hour, min, and sec column\n",
    "full_trending_df['like_rate'] =  full_trending_df ['likes'] / full_trending_df['views'] * 100\n",
    "full_trending_df[['hour','min','sec']] = full_trending_df['publish_time'].astype(str).str.split(':', expand=True).astype(int)\n",
    "full_trending_df.head()"
   ]
  },
  {
   "cell_type": "code",
   "execution_count": null,
   "metadata": {},
   "outputs": [],
   "source": [
    "## written by Aravind Patnam\n",
    "\n",
    "## run these to get the non trending datasets generated from the youtube api. These files should be in the same directory\n",
    "not_trending_us_df = pd.read_csv('data/not_trending_us_df.csv')\n",
    "not_trending_ca_df = pd.read_csv('data/not_trending_ca_df.csv')\n",
    "not_trending_de_df = pd.read_csv('data/not_trending_de_df.csv')\n",
    "not_trending_fr_df = pd.read_csv('data/not_trending_fr_df.csv')\n",
    "not_trending_gb_df = pd.read_csv('data/not_trending_gb_df.csv')\n",
    "not_trending_in_df = pd.read_csv('data/not_trending_in_df.csv')\n",
    "not_trending_jp_df = pd.read_csv('data/not_trending_jp_df.csv')\n",
    "not_trending_kr_df = pd.read_csv('data/not_trending_kr_df.csv')\n",
    "not_trending_mx_df = pd.read_csv('data/not_trending_mx_df.csv')\n",
    "not_trending_ru_df = pd.read_csv('data/not_trending_ru_df.csv')"
   ]
  },
  {
   "cell_type": "code",
   "execution_count": null,
   "metadata": {},
   "outputs": [],
   "source": [
    "## written by Aravind Patnam\n",
    "### do not run this unless you have a lot of time and 10 Youtube API keys!!!. Datasets are already generated for you for testing. \n",
    "n = 50\n",
    "US_trending_videoIds = US_trending_df.sample(n)['video_id'].tolist()\n",
    "CA_trending_videoIds = CA_trending_df.sample(n)['video_id'].tolist()\n",
    "DE_trending_videoIds = DE_trending_df.sample(n)['video_id'].tolist()\n",
    "FR_trending_videoIds = FR_trending_df.sample(n)['video_id'].tolist()\n",
    "GB_trending_videoIds = GB_trending_df.sample(n)['video_id'].tolist()\n",
    "IN_trending_videoIds = IN_trending_df.sample(n)['video_id'].tolist()\n",
    "JP_trending_videoIds = JP_trending_df.sample(n)['video_id'].tolist()\n",
    "KR_trending_videoIds = KR_trending_df.sample(n)['video_id'].tolist()\n",
    "MX_trending_videoIds = MX_trending_df.sample(n)['video_id'].tolist()\n",
    "RU_trending_videoIds = RU_trending_df.sample(n)['video_id'].tolist()\n",
    "\n",
    "## written by Aravind Patnam\n",
    "### do not run this unless you have a lot of time and 10 Youtube API keys!!! Datasets are already generated for you for testing. \n",
    "## do following requests separately with a new API Key and have the file called \"apiKey\"\n",
    "not_trending_us_df = script.process_youtube_requests(US_trending_videoIds)\n",
    "not_trending_ca_df = script.process_youtube_requests(CA_trending_videoIds)\n",
    "not_trending_de_df = script.process_youtube_requests(DE_trending_videoIds)\n",
    "not_trending_fr_df = script.process_youtube_requests(FR_trending_videoIds)\n",
    "not_trending_gb_df = script.process_youtube_requests(GB_trending_videoIds)\n",
    "not_trending_in_df = script.process_youtube_requests(IN_trending_videoIds)\n",
    "not_trending_jp_df = script.process_youtube_requests(JP_trending_videoIds)\n",
    "not_trending_kr_df = script.process_youtube_requests(KR_trending_videoIds)\n",
    "not_trending_mx_df = script.process_youtube_requests(MX_trending_videoIds)\n",
    "not_trending_ru_df = script.process_youtube_requests(RU_trending_videoIds)"
   ]
  },
  {
   "cell_type": "code",
   "execution_count": null,
   "metadata": {},
   "outputs": [],
   "source": [
    "## written by Aravind Patnam\n",
    "\n",
    "## puts all nontrending and all dfs that we have together for one big df and multiple smaller ones\n",
    "list_of_all_nontrending_dfs = [not_trending_us_df, not_trending_ca_df, not_trending_de_df, \n",
    "                              not_trending_fr_df, not_trending_gb_df, not_trending_in_df, not_trending_jp_df,\n",
    "                              not_trending_kr_df, not_trending_mx_df, not_trending_ru_df]\n",
    "\n",
    "\n",
    "# aravind, the categories are already in the csv??????????????????\n",
    "full_nontrending_df = pd.concat(list_of_all_nontrending_dfs)\n",
    "allDfsList = [full_trending_df] + list_of_all_trending_dfs\n",
    "allDfsDf = pd.concat(allDfsList)\n",
    "allDfsList.append(allDfsDf)\n",
    "\n",
    "## written by Jeremy Tan\n",
    "## insert new category field into dataframes\n",
    "for df in allDfsList:\n",
    "    script.insert_category_field(df)\n",
    " \n",
    "    \n",
    "## written by Jeremy Tan\n",
    "## converts all columns in dataframes to type for analysis\n",
    "for df in list_of_all_nontrending_dfs:\n",
    "    df['video_id'] = df['video_id'].astype(str) \n",
    "    df['title'] = df['title'].astype(str)\n",
    "    df['channel_title'] = df['channel_title'].astype(str)\n",
    "    df['category_id'] = df['category_id'].astype(int)\n",
    "    #df['category'] = df['category'].astype(str)\n",
    "    df['tags'] = df['tags'].astype(str)\n",
    "    df['views'] = df['views'].astype(int)\n",
    "    df['likes'] = df['likes'].astype(int)\n",
    "    df['dislikes'] = df['dislikes'].astype(int)\n",
    "    df['comment_count'] = df['comment_count'].astype(int)\n",
    "    df['description'] = df['description'].astype(str)"
   ]
  },
  {
   "cell_type": "code",
   "execution_count": null,
   "metadata": {},
   "outputs": [],
   "source": [
    "full_nontrending_df.head()"
   ]
  },
  {
   "cell_type": "code",
   "execution_count": null,
   "metadata": {},
   "outputs": [],
   "source": [
    "## written by Aravind Patnam\n",
    "full_nontrending_df = pd.concat(list_of_all_nontrending_dfs)\n",
    "allDfsList = list_of_all_trending_dfs + list_of_all_nontrending_dfs + [full_trending_df] + [full_nontrending_df]\n",
    "allDfsDf = pd.concat(allDfsList)\n",
    "allDfsList.append(allDfsDf)\n",
    "\n",
    "## output is a map containing all the numeric data for each df\n",
    "describes = []\n",
    "for df in allDfsList:\n",
    "    describes.append(script.find_stats(df))\n",
    "describesKeys = ['US_trending_df', 'CA_trending_df', 'DE_trending_df', 'FR_trending_df', 'GB_trending_df',\n",
    "                'IN_trending_df', 'JP_trending_df', 'KR_trending_df', 'MX_trending_df', 'RU_trending_df',\n",
    "                 'not_trending_us_df', 'not_trending_ca_df', 'not_trending_de_df', 'not_trending_fr_df',\n",
    "                'not_trending_gb_df', 'not_trending_in_df', 'not_trending_jp_df', 'not_trending_kr_df',\n",
    "                 'not_trending_mx_df', 'not_trending_ru_df',\n",
    "                'full_trending_df', 'full_nontrending_df', 'allDfsDf']\n",
    "describeMap = dict(zip(describesKeys, describes))\n",
    "## make sense of each data point we have from the describeMap and clean it for visualization\n",
    "countries = list(describeMap.keys())\n",
    "print(countries)\n",
    "## written by Aravind Patnam\n",
    "likes_count, dislikes_count = script.do_describe_analysis(describeMap, countries, describesKeys)"
   ]
  },
  {
   "cell_type": "code",
   "execution_count": null,
   "metadata": {},
   "outputs": [],
   "source": [
    "script.do_likes_to_dislikes_analysis(likes_count, dislikes_count, countries)"
   ]
  },
  {
   "cell_type": "code",
   "execution_count": null,
   "metadata": {},
   "outputs": [],
   "source": [
    "## written by Aravind Patnam\n",
    "\n",
    "## a bunch of maps containing the most popular tags for each country that are both trending and not trending and their frequency\n",
    "us_trending_most_common_tags = script.get_most_common_tags(US_trending_df)\n",
    "ca_trending_most_common_tags = script.get_most_common_tags(CA_trending_df)\n",
    "de_trending_most_common_tags = script.get_most_common_tags(DE_trending_df)\n",
    "fr_trending_most_common_tags = script.get_most_common_tags(FR_trending_df)\n",
    "gb_trending_most_common_tags = script.get_most_common_tags(GB_trending_df)\n",
    "in_trending_most_common_tags = script.get_most_common_tags(IN_trending_df)\n",
    "jp_trending_most_common_tags = script.get_most_common_tags(JP_trending_df)\n",
    "kr_trending_most_common_tags = script.get_most_common_tags(KR_trending_df)\n",
    "mx_trending_most_common_tags = script.get_most_common_tags(MX_trending_df)\n",
    "ru_trending_most_common_tags = script.get_most_common_tags(RU_trending_df)\n",
    "\n",
    "us_nontrending_most_common_tags = script.get_most_common_tags(not_trending_us_df)\n",
    "ca_nontrending_most_common_tags = script.get_most_common_tags(not_trending_ca_df)\n",
    "de_nontrending_most_common_tags = script.get_most_common_tags(not_trending_de_df)\n",
    "fr_nontrending_most_common_tags = script.get_most_common_tags(not_trending_fr_df)\n",
    "gb_nontrending_most_common_tags = script.get_most_common_tags(not_trending_gb_df)\n",
    "in_nontrending_most_common_tags = script.get_most_common_tags(not_trending_in_df)\n",
    "jp_nontrending_most_common_tags = script.get_most_common_tags(not_trending_jp_df)\n",
    "kr_nontrending_most_common_tags = script.get_most_common_tags(not_trending_kr_df)\n",
    "mx_nontrending_most_common_tags = script.get_most_common_tags(not_trending_mx_df)\n",
    "ru_nontrending_most_common_tags = script.get_most_common_tags(not_trending_ru_df)"
   ]
  },
  {
   "cell_type": "markdown",
   "metadata": {},
   "source": [
    "Below is a wordcloud visualization of some of the countries and a comparison of them between trending and non-trending videos. Since there is not much space to do all 20 different combinations, only the 3 with the most popular tags were displayed. "
   ]
  },
  {
   "cell_type": "code",
   "execution_count": null,
   "metadata": {},
   "outputs": [],
   "source": [
    "## written by Aravind Patnam\n",
    "script.do_wordcloud(us_trending_most_common_tags, gb_trending_most_common_tags, in_trending_most_common_tags, us_nontrending_most_common_tags, gb_nontrending_most_common_tags, in_nontrending_most_common_tags)"
   ]
  },
  {
   "cell_type": "markdown",
   "metadata": {},
   "source": [
    "Below represents a sentiment analysis conducted on the youtube tags. A datset of positive words and negative words is provided for the model to work. "
   ]
  },
  {
   "cell_type": "code",
   "execution_count": null,
   "metadata": {},
   "outputs": [],
   "source": [
    "## written by Aravind Patnam\n",
    "\n",
    "## gets the classifications from the sentiment analysis and prints out accuracies of the model\n",
    "classifications_us_trending = script.execute_model(list(us_trending_most_common_tags.keys()))\n",
    "classifications_ca_trending = script.execute_model(list(ca_trending_most_common_tags.keys()))\n",
    "classifications_de_trending = script.execute_model(list(de_trending_most_common_tags.keys()))\n",
    "classifications_fr_trending = script.execute_model(list(fr_trending_most_common_tags.keys()))\n",
    "classifications_gb_trending = script.execute_model(list(gb_trending_most_common_tags.keys()))\n",
    "classifications_in_trending = script.execute_model(list(in_trending_most_common_tags.keys()))\n",
    "classifications_jp_trending = script.execute_model(list(jp_trending_most_common_tags.keys()))\n",
    "classifications_kr_trending = script.execute_model(list(kr_trending_most_common_tags.keys()))\n",
    "classifications_mx_trending = script.execute_model(list(mx_trending_most_common_tags.keys()))\n",
    "classifications_ru_trending = script.execute_model(list(ru_trending_most_common_tags.keys()))\n",
    "\n",
    "classifications_us_nontrending = script.execute_model(list(us_nontrending_most_common_tags.keys()))\n",
    "classifications_ca_nontrending = script.execute_model(list(ca_nontrending_most_common_tags.keys()))\n",
    "classifications_de_nontrending = script.execute_model(list(de_nontrending_most_common_tags.keys()))\n",
    "classifications_fr_nontrending = script.execute_model(list(fr_nontrending_most_common_tags.keys()))\n",
    "classifications_gb_nontrending = script.execute_model(list(gb_nontrending_most_common_tags.keys()))\n",
    "classifications_in_nontrending = script.execute_model(list(in_nontrending_most_common_tags.keys()))\n",
    "classifications_jp_nontrending = script.execute_model(list(jp_nontrending_most_common_tags.keys()))\n",
    "classifications_kr_nontrending = script.execute_model(list(kr_nontrending_most_common_tags.keys()))\n",
    "classifications_mx_nontrending = script.execute_model(list(mx_nontrending_most_common_tags.keys()))\n",
    "classifications_ru_nontrending = script.execute_model(list(ru_nontrending_most_common_tags.keys()))"
   ]
  },
  {
   "cell_type": "code",
   "execution_count": null,
   "metadata": {},
   "outputs": [],
   "source": [
    "## written by Aravind Patnam\n",
    "\n",
    "## calls above method for stats for each country for visualization\n",
    "\n",
    "country_us_trending, us_trending_pos, us_trending_neg = script.get_sentiment_stats(classifications_us_trending, \"USA_Trending\")\n",
    "country_ca_trending, ca_trending_pos, ca_trending_neg = script.get_sentiment_stats(classifications_ca_trending, \"Canada_Trending\")\n",
    "country_de_trending, de_trending_pos, de_trending_neg = script.get_sentiment_stats(classifications_de_trending, \"Denmark_Trending\")\n",
    "country_fr_trending, fr_trending_pos, fr_trending_neg = script.get_sentiment_stats(classifications_fr_trending, \"France_Trending\")\n",
    "country_gb_trending, gb_trending_pos, gb_trending_neg = script.get_sentiment_stats(classifications_gb_trending, \"GreatBritain_Trending\")\n",
    "country_in_trending, in_trending_pos, in_trending_neg = script.get_sentiment_stats(classifications_in_trending, \"India_Trending\")\n",
    "country_jp_trending, jp_trending_pos, jp_trending_neg = script.get_sentiment_stats(classifications_jp_trending, \"Japan_Trending\")\n",
    "country_kr_trending, kr_trending_pos, kr_trending_neg = script.get_sentiment_stats(classifications_kr_trending, \"SouthKorea_Trending\")\n",
    "country_mx_trending, mx_trending_pos, mx_trending_neg = script.get_sentiment_stats(classifications_mx_trending, \"Mexico_Trending\")\n",
    "country_ru_trending, ru_trending_pos, ru_trending_neg = script.get_sentiment_stats(classifications_ru_trending, \"Russia_Trending\")\n",
    "\n",
    "\n",
    "country_us_nontrending, us_nontrending_pos, us_nontrending_neg = script.get_sentiment_stats(classifications_us_nontrending, \"USA_NonTrending\")\n",
    "country_ca_nontrending, ca_nontrending_pos, ca_nontrending_neg = script.get_sentiment_stats(classifications_ca_nontrending, \"Canada_NonTrending\")\n",
    "country_de_nontrending, de_nontrending_pos, de_nontrending_neg = script.get_sentiment_stats(classifications_de_nontrending, \"Denmark_NonTrending\")\n",
    "country_fr_nontrending, fr_nontrending_pos, fr_nontrending_neg = script.get_sentiment_stats(classifications_fr_nontrending, \"France_NonTrending\")\n",
    "country_gb_nontrending, gb_nontrending_pos, gb_nontrending_neg = script.get_sentiment_stats(classifications_gb_nontrending, \"GreatBritain_NonTrending\")\n",
    "country_in_nontrending, in_nontrending_pos, in_nontrending_neg = script.get_sentiment_stats(classifications_in_nontrending, \"India_NonTrending\")\n",
    "country_jp_nontrending, jp_nontrending_pos, jp_nontrending_neg = script.get_sentiment_stats(classifications_jp_nontrending, \"Japan_NonTrending\")\n",
    "country_kr_nontrending, kr_nontrending_pos, kr_nontrending_neg = script.get_sentiment_stats(classifications_kr_nontrending, \"SouthKorea_NonTrending\")\n",
    "country_mx_nontrending, mx_nontrending_pos, mx_nontrending_neg = script.get_sentiment_stats(classifications_mx_nontrending, \"Mexico_NonTrending\")\n",
    "country_ru_nontrending, ru_nontrending_pos, ru_nontrending_neg = script.get_sentiment_stats(classifications_ru_nontrending, \"Russia_NonTrending\")\n",
    "\n",
    "countries = [country_us_trending, country_ca_trending, country_de_trending, country_fr_trending, country_gb_trending,\n",
    "            country_in_trending, country_jp_trending, country_kr_trending, country_mx_trending, country_ru_trending,\n",
    "            country_us_nontrending, country_ca_nontrending, country_de_nontrending, country_fr_nontrending, \n",
    "            country_gb_nontrending, country_in_nontrending, country_jp_nontrending, country_kr_nontrending, \n",
    "            country_mx_nontrending, country_ru_nontrending]\n",
    "positivePercenteages = [us_trending_pos, ca_trending_pos, de_trending_pos, fr_trending_pos, gb_trending_pos, in_trending_pos, jp_trending_pos,\n",
    "            kr_trending_pos, mx_trending_pos, ru_trending_pos, us_nontrending_pos, ca_nontrending_pos, de_nontrending_pos, fr_nontrending_pos,\n",
    "            gb_nontrending_pos, in_nontrending_pos, jp_nontrending_pos, kr_nontrending_pos, mx_nontrending_pos, ru_nontrending_pos]\n",
    "negativePercentages = [us_trending_neg, ca_trending_neg, de_trending_neg, fr_trending_neg, gb_trending_neg, in_trending_neg, jp_trending_neg, \n",
    "                      kr_trending_neg, mx_trending_neg, ru_trending_neg, us_nontrending_neg, ca_nontrending_neg, de_nontrending_neg, \n",
    "                      fr_nontrending_neg, gb_nontrending_neg, in_nontrending_neg, jp_nontrending_neg, kr_nontrending_neg, mx_nontrending_neg,\n",
    "                      ru_nontrending_neg]\n",
    "posToNegRatios = [i / j for i, j in zip(positivePercenteages, negativePercentages)] \n",
    "data_dict = {\"Country\" : countries, \"Positives\": positivePercenteages, \"Negatives\": negativePercentages, \"PositiveNegativeRatio\": posToNegRatios}\n",
    "data = pd.DataFrame(data_dict, columns = ['Country', 'Positives' , 'Negatives', 'PositiveNegativeRatio'])\n",
    "\n",
    "data"
   ]
  },
  {
   "cell_type": "markdown",
   "metadata": {},
   "source": [
    "Hover over the plots and switch table to play with them and see what each one represents!! Use the toolbar to crop out some plots for better analysis. The first plot visualizes the ratios between the positive and negative tags while the second one shows the actual values that were classified as positive and negative by the sentiment analysis classifier. "
   ]
  },
  {
   "cell_type": "code",
   "execution_count": null,
   "metadata": {},
   "outputs": [],
   "source": [
    "## written by Aravind Patnam\n",
    "script.do_sentiment_analysis_visualization(data)"
   ]
  },
  {
   "cell_type": "markdown",
   "metadata": {},
   "source": [
    "Hover and play around with the principle component analysis presented below. LDA topic model was used on youtube tags and descriptions to show these findings. The relevancy metric at the time of this submission is set to around 0.30 since it showed the most favorable results that were not too specific and not too generic. "
   ]
  },
  {
   "cell_type": "code",
   "execution_count": null,
   "metadata": {},
   "outputs": [],
   "source": [
    "## written by Aravind Patnam\n",
    "\n",
    "## this will take a long time to run!\n",
    "\n",
    "## visualize trending videos using pyLDAvis -> this might be only visible on nbviewer depending on your notebook viewing settings\n",
    "\n",
    "full_trending_lda_input = list(script.get_most_common_tags(full_trending_df).keys()) + list (full_trending_df.sample(16901)['description'])\n",
    "topics_Full_Trending, corpus, dictionary = script.do_LDA(full_trending_lda_input)\n",
    "lda_display = script.visualize_LDA(True, corpus, dictionary)\n",
    "pyLDAvis.display(lda_display)"
   ]
  },
  {
   "cell_type": "code",
   "execution_count": null,
   "metadata": {},
   "outputs": [],
   "source": [
    "## written by Aravind Patnam\n",
    "\n",
    "## this will take a long time to run!\n",
    "\n",
    "## visualize nontrending videos using pyLDAvis -> this might be only visible on nbviewer depending on your notebook viewing settings\n",
    "\n",
    "\n",
    "full_nontrending_lda_input = list(script.get_most_common_tags(full_nontrending_df).keys()) + list (full_nontrending_df['description'])\n",
    "topics_Full_Nontrending, corpus, dictionary = script.do_LDA(full_nontrending_lda_input)\n",
    "lda_display = script.visualize_LDA(True, corpus, dictionary)\n",
    "pyLDAvis.display(lda_display)"
   ]
  },
  {
   "cell_type": "code",
   "execution_count": null,
   "metadata": {},
   "outputs": [],
   "source": [
    "## written by Aravind Patnam\n",
    " \n",
    "## this will take a long time to run!\n",
    "\n",
    "## visualize all videos using pyLDAvis -> this might be only visible on nbviewer depending on your notebook viewing settings\n",
    "\n",
    "allDfsDf_lda_input = list(script.get_most_common_tags(allDfsDf).keys()) + list (allDfsDf.sample(100000)['description'])\n",
    "topics_all_dfs, corpus, dictionary = script.do_LDA(allDfsDf_lda_input)\n",
    "lda_display = script.visualize_LDA(True, corpus, dictionary)\n",
    "pyLDAvis.display(lda_display)"
   ]
  },
  {
   "cell_type": "code",
   "execution_count": null,
   "metadata": {},
   "outputs": [],
   "source": [
    "## written by Aravind Patnam\n",
    "## no need to run this as this has already been done for you\n",
    "## convert to csvs\n",
    "\n",
    "not_trending_us_df.to_csv('data/not_trending_us_df.csv')\n",
    "not_trending_ca_df.to_csv('data/not_trending_ca_df.csv')\n",
    "not_trending_de_df.to_csv('data/not_trending_de_df.csv')\n",
    "not_trending_fr_df.to_csv('data/not_trending_fr_df.csv')\n",
    "not_trending_gb_df.to_csv('data/not_trending_gb_df.csv')\n",
    "not_trending_in_df.to_csv('data/not_trending_in_df.csv')\n",
    "not_trending_jp_df.to_csv('data/not_trending_jp_df.csv')\n",
    "not_trending_kr_df.to_csv('data/not_trending_kr_df.csv')\n",
    "not_trending_mx_df.to_csv('data/not_trending_mx_df.csv')\n",
    "not_trending_ru_df.to_csv('data/not_trending_ru_df.csv')"
   ]
  },
  {
   "cell_type": "code",
   "execution_count": null,
   "metadata": {},
   "outputs": [],
   "source": [
    "# Written by Jeremy Tan\n",
    "script.makeVideoTrending(full_trending_df, full_trending_df_fill)"
   ]
  },
  {
   "cell_type": "markdown",
   "metadata": {},
   "source": [
    "As you can see from the visualization above, most trending videos only stay trending for two days or less. Some notable outliers are videos from Great Britan, which has videos that will stay trending for close to 30 days! For countries in the far East, videos only seem to stay tredning for one day so the turnover rate is pretty high."
   ]
  },
  {
   "cell_type": "code",
   "execution_count": null,
   "metadata": {},
   "outputs": [],
   "source": [
    "# Written by Jeremy Tan \n",
    "# Makes two new columns that count tilte length and description length ands changes comment_count to comments\n",
    "full_trending_df['title_length'] = full_trending_df['title'].str.len()\n",
    "full_trending_df['description_length'] = full_trending_df['description'].str.len()\n",
    "full_trending_df = full_trending_df.rename(columns={'comment_count':'comments'})"
   ]
  },
  {
   "cell_type": "code",
   "execution_count": null,
   "metadata": {},
   "outputs": [],
   "source": [
    "# Written by Jeremy Tan\n",
    "# What is the correlation between views, likes, disklies, and comment count?\n",
    "script.makeScatter(full_trending_df)"
   ]
  },
  {
   "cell_type": "markdown",
   "metadata": {},
   "source": [
    "As seen from the scatter matrix, there is a somewhat strong correlation between views and likes. Another correlation is between likes and comments, views and comments, and dislikes and comments (though somewhat weak!). Another interesting point is the length of the description and the length of the title seem to be tied together."
   ]
  },
  {
   "cell_type": "code",
   "execution_count": null,
   "metadata": {},
   "outputs": [],
   "source": [
    "# What is the correlation between views, likes, disklies, and comment count?\n",
    "# Another interactive visualization\n",
    "corr = full_trending_df.loc[:, ['views', 'likes', 'dislikes', 'comments', 'description_length', 'title_length']].corr()\n",
    "script.makeHeatMap(corr)"
   ]
  },
  {
   "cell_type": "markdown",
   "metadata": {},
   "source": [
    "Another way to visualzie the correlations. Here, I can see additional correlations of dislikes and views, dislikes and likes, and dislikes and comments."
   ]
  },
  {
   "cell_type": "code",
   "execution_count": null,
   "metadata": {},
   "outputs": [],
   "source": [
    "# Written by Jeremy Tan\n",
    "# What is the correlation between views, likes, disklies, and comment count in categories?\n",
    "categories = full_trending_df['category'].unique()                                                                                                                                                     \n",
    "corr_list = [full_trending_df[full_trending_df['category'] == cat].loc[:, ['views', 'likes', 'dislikes', 'comments', 'description_length', 'title_length']].corr() for cat in categories] \n",
    "script.makeCategoryHeatMap(corr_list, categories)"
   ]
  },
  {
   "cell_type": "markdown",
   "metadata": {},
   "source": [
    "Another way to visualize correlations but now based on categories. For the popular categories, the correlations I stated earlier hold true. However, if you were to go to a unpopular category like \"trailers,\" negative correlations appear in place of the previous, strong correlations. Most suprisingly, for categories that elict human emotion, such as \"Pet & Animals\" and \"Nonprofits & Activism\" there is a strong correlation between likes, views, comments, and dislikes. "
   ]
  },
  {
   "cell_type": "code",
   "execution_count": null,
   "metadata": {},
   "outputs": [],
   "source": [
    "# Written by Jeremy Tan\n",
    "# What category of videos trend the most in which countries?\n",
    "# What category of videos fail to hit trending in which countries?"
   ]
  },
  {
   "cell_type": "code",
   "execution_count": null,
   "metadata": {
    "scrolled": true
   },
   "outputs": [],
   "source": [
    "script.trendingCategories(US_trending_df, \"United States\")"
   ]
  },
  {
   "cell_type": "code",
   "execution_count": null,
   "metadata": {},
   "outputs": [],
   "source": [
    "script.nontrendingCategories(not_trending_us_df, \"United States\")"
   ]
  },
  {
   "cell_type": "markdown",
   "metadata": {},
   "source": [
    "Based on the two plot above, one can see \"Entertainment\" videos are the majority of videos made. They, however, have the highest chance to both fail and succeed. The pattern illuminates the more successful the category, the more videos that are being put out.  "
   ]
  },
  {
   "cell_type": "code",
   "execution_count": null,
   "metadata": {},
   "outputs": [],
   "source": [
    "script.trendingCategories(CA_trending_df, \"Canada\")"
   ]
  },
  {
   "cell_type": "code",
   "execution_count": null,
   "metadata": {},
   "outputs": [],
   "source": [
    "script.nontrendingCategories(not_trending_ca_df, \"Canada\")"
   ]
  },
  {
   "cell_type": "markdown",
   "metadata": {},
   "source": [
    "The same pattern seems to appear as it did in the United States. However, \"People and Blogs\" and \"Music\" seem to fail more in this country."
   ]
  },
  {
   "cell_type": "code",
   "execution_count": null,
   "metadata": {},
   "outputs": [],
   "source": [
    "script.trendingCategories(DE_trending_df, \"Germany\")"
   ]
  },
  {
   "cell_type": "code",
   "execution_count": null,
   "metadata": {},
   "outputs": [],
   "source": [
    "script.nontrendingCategories(not_trending_de_df, \"Germany\")"
   ]
  },
  {
   "cell_type": "markdown",
   "metadata": {},
   "source": [
    "The same pattern seems to appear as it did in the United States. However, \"People and Blogs\" have more of a success rate but \"Films & Animation\" seem to fail more."
   ]
  },
  {
   "cell_type": "code",
   "execution_count": null,
   "metadata": {},
   "outputs": [],
   "source": [
    "script.trendingCategories(FR_trending_df, \"France\")"
   ]
  },
  {
   "cell_type": "code",
   "execution_count": null,
   "metadata": {},
   "outputs": [],
   "source": [
    "script.nontrendingCategories(not_trending_fr_df, \"France\")"
   ]
  },
  {
   "cell_type": "markdown",
   "metadata": {},
   "source": [
    "Same pattern occurs like in the Untied States. An interesting point is that \"Peoples & Blog\" have a higher probability of being trending. We can assume this is due to people valuing these type of videos more."
   ]
  },
  {
   "cell_type": "code",
   "execution_count": null,
   "metadata": {},
   "outputs": [],
   "source": [
    "script.trendingCategories(GB_trending_df, \"Great Britan\")"
   ]
  },
  {
   "cell_type": "code",
   "execution_count": null,
   "metadata": {},
   "outputs": [],
   "source": [
    "script.nontrendingCategories(not_trending_gb_df, \"Great Britan\")"
   ]
  },
  {
   "cell_type": "markdown",
   "metadata": {},
   "source": [
    "Same pattern occurs like in the Untied States. However, \"Music\" dominates this country with the majority of the videos being produced are of this category."
   ]
  },
  {
   "cell_type": "code",
   "execution_count": null,
   "metadata": {},
   "outputs": [],
   "source": [
    "script.trendingCategories(IN_trending_df, \"India\")"
   ]
  },
  {
   "cell_type": "code",
   "execution_count": null,
   "metadata": {},
   "outputs": [],
   "source": [
    "script.nontrendingCategories(not_trending_in_df, \"India\")"
   ]
  },
  {
   "cell_type": "markdown",
   "metadata": {},
   "source": [
    "Same pattern as the US. Nothing interesitng to note as it follows the pattern exactly where the more successful a category, the more likely the video will also fail."
   ]
  },
  {
   "cell_type": "code",
   "execution_count": null,
   "metadata": {
    "scrolled": true
   },
   "outputs": [],
   "source": [
    "script.trendingCategories(JP_trending_df, \"Japan\")"
   ]
  },
  {
   "cell_type": "code",
   "execution_count": null,
   "metadata": {},
   "outputs": [],
   "source": [
    "script.nontrendingCategories(not_trending_jp_df, \"Japan\")"
   ]
  },
  {
   "cell_type": "markdown",
   "metadata": {},
   "source": [
    "Similar pattern as Germany, where \"People and Blogs\" videos will have a higher chance to be tredning and not fail."
   ]
  },
  {
   "cell_type": "code",
   "execution_count": null,
   "metadata": {},
   "outputs": [],
   "source": [
    "script.trendingCategories(KR_trending_df, \"Korea\")"
   ]
  },
  {
   "cell_type": "code",
   "execution_count": null,
   "metadata": {},
   "outputs": [],
   "source": [
    "script.nontrendingCategories(not_trending_kr_df, \"Korea\")"
   ]
  },
  {
   "cell_type": "markdown",
   "metadata": {},
   "source": [
    "Same pattern as the US.Interesting enough, this country cares alot about \"News & Politics\" and have lots of video that hit trending (only second behind \"Entertainment\"). "
   ]
  },
  {
   "cell_type": "code",
   "execution_count": null,
   "metadata": {},
   "outputs": [],
   "source": [
    "script.trendingCategories(MX_trending_df, \"Mexico\")"
   ]
  },
  {
   "cell_type": "code",
   "execution_count": null,
   "metadata": {},
   "outputs": [],
   "source": [
    "script.nontrendingCategories(not_trending_mx_df, \"Mexico\")"
   ]
  },
  {
   "cell_type": "markdown",
   "metadata": {},
   "source": [
    "Same pattern as the US. Similar stats as the US too. "
   ]
  },
  {
   "cell_type": "code",
   "execution_count": null,
   "metadata": {},
   "outputs": [],
   "source": [
    "script.trendingCategories(RU_trending_df, \"Russia\")"
   ]
  },
  {
   "cell_type": "code",
   "execution_count": null,
   "metadata": {},
   "outputs": [],
   "source": [
    "script.nontrendingCategories(not_trending_ru_df, \"Russia\")"
   ]
  },
  {
   "cell_type": "markdown",
   "metadata": {},
   "source": [
    "Same pattern as the US. However, like Germany and Japan, \"Peoples & Blogs\" have a high succes rate to reach trending and fail less."
   ]
  },
  {
   "cell_type": "code",
   "execution_count": null,
   "metadata": {},
   "outputs": [],
   "source": [
    "# Written by Jeremy Tan\n",
    "# Which categories are the most popular? Do highest average amongst likes and views ----> shows which type of videos people enjoy the most\n",
    "# makes a box plot to visuzlaize distbution of likes and views "
   ]
  },
  {
   "cell_type": "code",
   "execution_count": null,
   "metadata": {},
   "outputs": [],
   "source": [
    "script.likes_to_categories(US_trending_df, \"United States\", 'likes_log')"
   ]
  },
  {
   "cell_type": "code",
   "execution_count": null,
   "metadata": {},
   "outputs": [],
   "source": [
    "script.likes_to_categories(US_trending_df, \"United States\", 'views_log')"
   ]
  },
  {
   "cell_type": "markdown",
   "metadata": {},
   "source": [
    "Judging from the boxplot, it seems people in the US enjoy videos categorized Music more the most. Gaming is the second most popualr. Then, Entertainment. "
   ]
  },
  {
   "cell_type": "code",
   "execution_count": null,
   "metadata": {},
   "outputs": [],
   "source": [
    "script.likes_to_categories(CA_trending_df, \"Canada\", 'likes_log')"
   ]
  },
  {
   "cell_type": "code",
   "execution_count": null,
   "metadata": {},
   "outputs": [],
   "source": [
    "script.likes_to_categories(CA_trending_df, \"Canada\", 'views_log')"
   ]
  },
  {
   "cell_type": "markdown",
   "metadata": {},
   "source": [
    "It isn't as clear, but there seems to be a tie between Movies and Music as some of the more popular videos in Canada. Comedy lags behind third. "
   ]
  },
  {
   "cell_type": "code",
   "execution_count": null,
   "metadata": {},
   "outputs": [],
   "source": [
    "script.likes_to_categories(DE_trending_df, \"Germany\", 'likes_log')"
   ]
  },
  {
   "cell_type": "code",
   "execution_count": null,
   "metadata": {},
   "outputs": [],
   "source": [
    "script.likes_to_categories(DE_trending_df, \"Germany\", 'views_log')"
   ]
  },
  {
   "cell_type": "markdown",
   "metadata": {},
   "source": [
    "In Germany, Music is the most popular category. Movies trail right behind, and Comedy right after."
   ]
  },
  {
   "cell_type": "code",
   "execution_count": null,
   "metadata": {},
   "outputs": [],
   "source": [
    "script.likes_to_categories(FR_trending_df, \"France\", 'likes_log')"
   ]
  },
  {
   "cell_type": "code",
   "execution_count": null,
   "metadata": {},
   "outputs": [],
   "source": [
    "script.likes_to_categories(FR_trending_df, \"France\", 'views_log')"
   ]
  },
  {
   "cell_type": "markdown",
   "metadata": {},
   "source": [
    "In France, Music is the most popular category like Germany. However, Comedy and Entertainment trail right behind."
   ]
  },
  {
   "cell_type": "code",
   "execution_count": null,
   "metadata": {},
   "outputs": [],
   "source": [
    "script.likes_to_categories(GB_trending_df, \"Great Britan\", 'likes_log')"
   ]
  },
  {
   "cell_type": "code",
   "execution_count": null,
   "metadata": {},
   "outputs": [],
   "source": [
    "script.likes_to_categories(GB_trending_df, \"Great Britan\", 'views_log')"
   ]
  },
  {
   "cell_type": "markdown",
   "metadata": {},
   "source": [
    "Music is the most popular category, while Nonprfits & Activism then Entertainment trail behind."
   ]
  },
  {
   "cell_type": "code",
   "execution_count": null,
   "metadata": {},
   "outputs": [],
   "source": [
    "script.likes_to_categories(IN_trending_df, \"India\", 'likes_log')"
   ]
  },
  {
   "cell_type": "code",
   "execution_count": null,
   "metadata": {},
   "outputs": [],
   "source": [
    "script.likes_to_categories(IN_trending_df, \"India\", 'views_log')"
   ]
  },
  {
   "cell_type": "markdown",
   "metadata": {},
   "source": [
    "It isn't clear which videos come out on top, but based on likes, Pets & Animals, Gaming, and then Comedy are the top categories."
   ]
  },
  {
   "cell_type": "code",
   "execution_count": null,
   "metadata": {},
   "outputs": [],
   "source": [
    "script.likes_to_categories(JP_trending_df, \"Japan\", 'likes_log')"
   ]
  },
  {
   "cell_type": "code",
   "execution_count": null,
   "metadata": {},
   "outputs": [],
   "source": [
    "script.likes_to_categories(JP_trending_df, \"Japan\", 'views_log')"
   ]
  },
  {
   "cell_type": "markdown",
   "metadata": {},
   "source": [
    "Funny enough, Science & Technology are the most popular videos follwoed by Music and then Comedy."
   ]
  },
  {
   "cell_type": "code",
   "execution_count": null,
   "metadata": {},
   "outputs": [],
   "source": [
    "script.likes_to_categories(KR_trending_df, \"Korea\", 'likes_log')"
   ]
  },
  {
   "cell_type": "code",
   "execution_count": null,
   "metadata": {},
   "outputs": [],
   "source": [
    "script.likes_to_categories(KR_trending_df, \"Korea\", 'views_log')"
   ]
  },
  {
   "cell_type": "markdown",
   "metadata": {},
   "source": [
    "Similar to Japan, Science & Technology is first as Musis is second. However, Sports is third. "
   ]
  },
  {
   "cell_type": "code",
   "execution_count": null,
   "metadata": {},
   "outputs": [],
   "source": [
    "script.likes_to_categories(MX_trending_df, \"Mexico\", 'likes_log')"
   ]
  },
  {
   "cell_type": "code",
   "execution_count": null,
   "metadata": {},
   "outputs": [],
   "source": [
    "script.likes_to_categories(MX_trending_df, \"Mexico\", 'views_log')"
   ]
  },
  {
   "cell_type": "markdown",
   "metadata": {},
   "source": [
    "Music is first, Gaming is second, and Comedy is third."
   ]
  },
  {
   "cell_type": "code",
   "execution_count": null,
   "metadata": {},
   "outputs": [],
   "source": [
    "script.likes_to_categories(RU_trending_df, \"Russia\", 'likes_log')"
   ]
  },
  {
   "cell_type": "code",
   "execution_count": null,
   "metadata": {},
   "outputs": [],
   "source": [
    "script.likes_to_categories(RU_trending_df, \"Russia\", 'views_log')"
   ]
  },
  {
   "cell_type": "markdown",
   "metadata": {},
   "source": [
    "Music is first Science and Technology is second. Comedy is third. "
   ]
  },
  {
   "cell_type": "code",
   "execution_count": null,
   "metadata": {},
   "outputs": [],
   "source": [
    "# Written by Jeremy Tan\n",
    "# Which channels are the most successfucl at reaching trending?\n",
    "# Grabs most reoccuring videos in trending "
   ]
  },
  {
   "cell_type": "code",
   "execution_count": null,
   "metadata": {},
   "outputs": [],
   "source": [
    "script.videos_top(US_trending_df, \"United States\")"
   ]
  },
  {
   "cell_type": "code",
   "execution_count": null,
   "metadata": {},
   "outputs": [],
   "source": [
    "script.videos_top(CA_trending_df, \"Canada\")"
   ]
  },
  {
   "cell_type": "code",
   "execution_count": null,
   "metadata": {},
   "outputs": [],
   "source": [
    "script.videos_top(DE_trending_df, \"Germany\")"
   ]
  },
  {
   "cell_type": "code",
   "execution_count": null,
   "metadata": {},
   "outputs": [],
   "source": [
    "script.videos_top(FR_trending_df, \"France\")"
   ]
  },
  {
   "cell_type": "code",
   "execution_count": null,
   "metadata": {},
   "outputs": [],
   "source": [
    "script.videos_top(GB_trending_df, \"Great Britan\")"
   ]
  },
  {
   "cell_type": "code",
   "execution_count": null,
   "metadata": {},
   "outputs": [],
   "source": [
    "script.videos_top(IN_trending_df, \"India\")"
   ]
  },
  {
   "cell_type": "code",
   "execution_count": null,
   "metadata": {},
   "outputs": [],
   "source": [
    "script.videos_top(JP_trending_df, \"Japan\")"
   ]
  },
  {
   "cell_type": "markdown",
   "metadata": {},
   "source": [
    "Original scrapper did not properly encode characters correctly. Hence the weird symbols."
   ]
  },
  {
   "cell_type": "code",
   "execution_count": null,
   "metadata": {},
   "outputs": [],
   "source": [
    "script.videos_top(KR_trending_df, \"Korea\")"
   ]
  },
  {
   "cell_type": "markdown",
   "metadata": {},
   "source": [
    "Original scrapper did not properly encode characters correctly. Hence the weird symbols."
   ]
  },
  {
   "cell_type": "code",
   "execution_count": null,
   "metadata": {},
   "outputs": [],
   "source": [
    "script.videos_top(MX_trending_df, \"Mexico\")"
   ]
  },
  {
   "cell_type": "code",
   "execution_count": null,
   "metadata": {},
   "outputs": [],
   "source": [
    "script.videos_top(RU_trending_df, \"Russia\")"
   ]
  },
  {
   "cell_type": "markdown",
   "metadata": {},
   "source": [
    "Original scrapper did not properly encode characters correctly. Hence the weird symbols."
   ]
  },
  {
   "cell_type": "code",
   "execution_count": null,
   "metadata": {},
   "outputs": [],
   "source": [
    "# Written by Jeremy Tan\n",
    "# When a video gets published, what is the intial like rate that got them to trending?\n",
    "# Has two plots: one shows which hour a video is most commonly published and the other is a boxen plot that shows differnet quartiles of the like_rate + outliers\n",
    "script.showHours(full_trending_df)"
   ]
  },
  {
   "cell_type": "markdown",
   "metadata": {},
   "source": [
    "It seems most trending videos are published at 4 pm. However, more engagemnt in terms of like happens at 8pm."
   ]
  },
  {
   "cell_type": "code",
   "execution_count": null,
   "metadata": {},
   "outputs": [],
   "source": [
    "full_nontrending_df.head()"
   ]
  },
  {
   "cell_type": "code",
   "execution_count": null,
   "metadata": {},
   "outputs": [],
   "source": [
    "# Written by Jeremy Tan \n",
    "# Grabs the videos that have the most views, likes, or dislikes\n",
    "# What videos have the most views, likes, and dislikes in the tredning dataset and nontrending dataset?"
   ]
  },
  {
   "cell_type": "code",
   "execution_count": null,
   "metadata": {},
   "outputs": [],
   "source": [
    "script.visualize_most(full_trending_df, \"views\")"
   ]
  },
  {
   "cell_type": "code",
   "execution_count": null,
   "metadata": {},
   "outputs": [],
   "source": [
    "script.visualize_most(full_nontrending_df, \"views\")"
   ]
  },
  {
   "cell_type": "code",
   "execution_count": null,
   "metadata": {},
   "outputs": [],
   "source": [
    "script.visualize_most(full_trending_df, \"likes\")"
   ]
  },
  {
   "cell_type": "code",
   "execution_count": null,
   "metadata": {},
   "outputs": [],
   "source": [
    "script.visualize_most(full_nontrending_df, \"likes\")"
   ]
  },
  {
   "cell_type": "code",
   "execution_count": null,
   "metadata": {},
   "outputs": [],
   "source": [
    "script.visualize_most(full_trending_df, \"dislikes\")"
   ]
  },
  {
   "cell_type": "code",
   "execution_count": null,
   "metadata": {},
   "outputs": [],
   "source": [
    "script.visualize_most(full_nontrending_df, \"dislikes\")"
   ]
  },
  {
   "cell_type": "code",
   "execution_count": null,
   "metadata": {},
   "outputs": [],
   "source": [
    "# Written by Jeremy Tan\n",
    "# Which country has the most active participation and engagemet?\n",
    "script.engagement(full_trending_df)"
   ]
  },
  {
   "cell_type": "markdown",
   "metadata": {},
   "source": [
    "Overall, Great Britan has the most active audience with the US seriously lagging behind."
   ]
  },
  {
   "cell_type": "code",
   "execution_count": null,
   "metadata": {},
   "outputs": [],
   "source": []
  },
  {
   "cell_type": "code",
   "execution_count": null,
   "metadata": {},
   "outputs": [],
   "source": []
  }
 ],
 "metadata": {
  "kernelspec": {
   "display_name": "Python 3",
   "language": "python",
   "name": "python3"
  },
  "language_info": {
   "codemirror_mode": {
    "name": "ipython",
    "version": 3
   },
   "file_extension": ".py",
   "mimetype": "text/x-python",
   "name": "python",
   "nbconvert_exporter": "python",
   "pygments_lexer": "ipython3",
   "version": "3.7.2"
  }
 },
 "nbformat": 4,
 "nbformat_minor": 2
}
